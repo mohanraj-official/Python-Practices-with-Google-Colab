{
  "nbformat": 4,
  "nbformat_minor": 0,
  "metadata": {
    "colab": {
      "provenance": [],
      "authorship_tag": "ABX9TyPvAPOu3NF6TAf8MEW7nc9b",
      "include_colab_link": true
    },
    "kernelspec": {
      "name": "python3",
      "display_name": "Python 3"
    },
    "language_info": {
      "name": "python"
    }
  },
  "cells": [
    {
      "cell_type": "markdown",
      "metadata": {
        "id": "view-in-github",
        "colab_type": "text"
      },
      "source": [
        "<a href=\"https://colab.research.google.com/github/mohanraj-official/Python-Practices-with-Google-Colab/blob/main/8_Conditional_Statements.ipynb\" target=\"_parent\"><img src=\"https://colab.research.google.com/assets/colab-badge.svg\" alt=\"Open In Colab\"/></a>"
      ]
    },
    {
      "cell_type": "markdown",
      "source": [
        "#Beginner"
      ],
      "metadata": {
        "id": "7u3OergftqAa"
      }
    },
    {
      "cell_type": "markdown",
      "source": [
        "###Simple if statements"
      ],
      "metadata": {
        "id": "IYer_KC8tunU"
      }
    },
    {
      "cell_type": "code",
      "source": [
        "x = 5\n",
        "if x > 4:\n",
        "  print(f\"{x} is Greater than 4\")\n",
        "if x < 6:\n",
        "  print(f\"Now also {x} is lower than 6\")"
      ],
      "metadata": {
        "colab": {
          "base_uri": "https://localhost:8080/"
        },
        "id": "er1st7wLtzcy",
        "outputId": "ab74001f-5e7a-47e1-cec2-3dc85aea4a9c"
      },
      "execution_count": null,
      "outputs": [
        {
          "output_type": "stream",
          "name": "stdout",
          "text": [
            "5 is Greater than 4\n",
            "Now also 5 is lower than 6\n"
          ]
        }
      ]
    },
    {
      "cell_type": "markdown",
      "source": [
        "###if-elif-statements"
      ],
      "metadata": {
        "id": "wTN8FvhLvD7G"
      }
    },
    {
      "cell_type": "code",
      "source": [
        "if x < 5:\n",
        "  print(\"X is greater\")\n",
        "else:\n",
        "  print(\"X is lesser\")"
      ],
      "metadata": {
        "colab": {
          "base_uri": "https://localhost:8080/"
        },
        "id": "1O5f0QdsvO3H",
        "outputId": "36815da2-5ffd-4f0f-e37a-a08bf6cbac31"
      },
      "execution_count": null,
      "outputs": [
        {
          "output_type": "stream",
          "name": "stdout",
          "text": [
            "X is lesser\n"
          ]
        }
      ]
    },
    {
      "cell_type": "markdown",
      "source": [
        "###if-else-statements"
      ],
      "metadata": {
        "id": "G0EbcG3guehI"
      }
    },
    {
      "cell_type": "code",
      "source": [
        "if x < 5:\n",
        "  print(\"x is less than 5\")\n",
        "elif x == 5:\n",
        "  print(\"x is equal to 5\")\n",
        "else:\n",
        "  print(\"x is greater than 5\")"
      ],
      "metadata": {
        "colab": {
          "base_uri": "https://localhost:8080/"
        },
        "id": "n6NSdifnuh5r",
        "outputId": "cdedf480-9090-405b-8635-b075375f5c81"
      },
      "execution_count": null,
      "outputs": [
        {
          "output_type": "stream",
          "name": "stdout",
          "text": [
            "x is equal to 5\n"
          ]
        }
      ]
    },
    {
      "cell_type": "markdown",
      "source": [
        "###Even or odd"
      ],
      "metadata": {
        "id": "1TxqM3cAvf_R"
      }
    },
    {
      "cell_type": "code",
      "source": [
        "n = 7\n",
        "if n % 2 == 0:\n",
        "  print(\"This is Even number\")\n",
        "else:\n",
        "  print(\"This is Odd number\")\n"
      ],
      "metadata": {
        "colab": {
          "base_uri": "https://localhost:8080/"
        },
        "id": "FfMJaPLVw62K",
        "outputId": "2fae2a10-4791-4006-caa9-061e5a2b821b"
      },
      "execution_count": null,
      "outputs": [
        {
          "output_type": "stream",
          "name": "stdout",
          "text": [
            "This is Odd number\n"
          ]
        }
      ]
    },
    {
      "cell_type": "markdown",
      "source": [
        "###Nested if statements"
      ],
      "metadata": {
        "id": "kC9dlHFcxUlK"
      }
    },
    {
      "cell_type": "code",
      "source": [
        "n = 10\n",
        "if n > 0 :\n",
        "  if n % 2 == 0:\n",
        "    print(\"Given value is positive and Even number\")"
      ],
      "metadata": {
        "colab": {
          "base_uri": "https://localhost:8080/"
        },
        "id": "gQkqGjcGxZOe",
        "outputId": "35cb5ec7-df15-479f-e2fc-7ed87517b0e3"
      },
      "execution_count": null,
      "outputs": [
        {
          "output_type": "stream",
          "name": "stdout",
          "text": [
            "Given value is positive and Even number\n"
          ]
        }
      ]
    },
    {
      "cell_type": "markdown",
      "source": [
        "###Positive negative or zero"
      ],
      "metadata": {
        "id": "rF7omd8mx2bN"
      }
    },
    {
      "cell_type": "code",
      "source": [
        "g = -4\n",
        "if g > 0:\n",
        "  print(\"Positive\")\n",
        "elif g == 0:\n",
        "  print(\"Equal to zero\")\n",
        "else:\n",
        "  print(\"Negative\")"
      ],
      "metadata": {
        "colab": {
          "base_uri": "https://localhost:8080/"
        },
        "id": "JicY6_cHx8Vt",
        "outputId": "8fc3847e-ae5e-4436-f15d-df16e1a36c0b"
      },
      "execution_count": null,
      "outputs": [
        {
          "output_type": "stream",
          "name": "stdout",
          "text": [
            "Negative\n"
          ]
        }
      ]
    },
    {
      "cell_type": "markdown",
      "source": [
        "###check if number is divisablle by 3"
      ],
      "metadata": {
        "id": "1QDE5nnFyRoc"
      }
    },
    {
      "cell_type": "code",
      "source": [
        "e = 66\n",
        "if e % 3 == 0 :\n",
        "  print(\"Given value is divisible by 3\")\n",
        "else:\n",
        "  print(\"Never\")"
      ],
      "metadata": {
        "colab": {
          "base_uri": "https://localhost:8080/"
        },
        "id": "icn9ewJoyVtC",
        "outputId": "ec811428-e8a8-4574-c9b8-ca501c5767f7"
      },
      "execution_count": null,
      "outputs": [
        {
          "output_type": "stream",
          "name": "stdout",
          "text": [
            "Given value is divisible by 3\n"
          ]
        }
      ]
    },
    {
      "cell_type": "markdown",
      "source": [
        "###Check the condition"
      ],
      "metadata": {
        "id": "9D7JkLNHzHIu"
      }
    },
    {
      "cell_type": "code",
      "source": [
        "d = 12\n",
        "if d >= 10:\n",
        "  print(\"D is larger\")"
      ],
      "metadata": {
        "colab": {
          "base_uri": "https://localhost:8080/"
        },
        "id": "dViOzunFzJCT",
        "outputId": "ac96de47-2aa7-4f14-ea0a-b20f5b1d3cad"
      },
      "execution_count": null,
      "outputs": [
        {
          "output_type": "stream",
          "name": "stdout",
          "text": [
            "D is larger\n"
          ]
        }
      ]
    },
    {
      "cell_type": "markdown",
      "source": [
        "###Multiple condition"
      ],
      "metadata": {
        "id": "EAkTbQkZzVrD"
      }
    },
    {
      "cell_type": "code",
      "source": [
        "f = 100\n",
        "if f > 50 and f < 110:\n",
        "  print(\"It is True\")"
      ],
      "metadata": {
        "colab": {
          "base_uri": "https://localhost:8080/"
        },
        "id": "L37om1e1zXwZ",
        "outputId": "f1f64274-4cab-4365-ac03-7ec7d0aec453"
      },
      "execution_count": null,
      "outputs": [
        {
          "output_type": "stream",
          "name": "stdout",
          "text": [
            "It is True\n"
          ]
        }
      ]
    },
    {
      "cell_type": "markdown",
      "source": [
        "###Check if list is empty"
      ],
      "metadata": {
        "id": "tZf9I6q6zv3F"
      }
    },
    {
      "cell_type": "code",
      "source": [
        "listm = []\n",
        "if not listm:\n",
        "  print(\"List is empty\")\n",
        "else:\n",
        "  print(\"List is not Empty\")"
      ],
      "metadata": {
        "colab": {
          "base_uri": "https://localhost:8080/"
        },
        "id": "tVHNM3bLzyic",
        "outputId": "7740e165-85b8-4830-8364-5bc6195d8c3f"
      },
      "execution_count": null,
      "outputs": [
        {
          "output_type": "stream",
          "name": "stdout",
          "text": [
            "List is empty\n"
          ]
        }
      ]
    },
    {
      "cell_type": "markdown",
      "source": [
        "#Intermediate"
      ],
      "metadata": {
        "id": "AreXK8Gw0jcM"
      }
    },
    {
      "cell_type": "markdown",
      "source": [
        "###Multiple Conditions with and or"
      ],
      "metadata": {
        "id": "WdOw4_NY0lxV"
      }
    },
    {
      "cell_type": "code",
      "source": [
        "z = 25\n",
        "if z > 20 and z < 30:\n",
        "  print(\"It is True\")\n",
        "else:\n",
        "  print(\"It is False\")"
      ],
      "metadata": {
        "colab": {
          "base_uri": "https://localhost:8080/"
        },
        "id": "1NBI8NdL0pwE",
        "outputId": "6cec0ffa-a003-40dc-d7c5-c803daa171c0"
      },
      "execution_count": null,
      "outputs": [
        {
          "output_type": "stream",
          "name": "stdout",
          "text": [
            "It is True\n"
          ]
        }
      ]
    },
    {
      "cell_type": "markdown",
      "source": [
        "###Ternary operator"
      ],
      "metadata": {
        "id": "JwWQ2Msl1JCI"
      }
    },
    {
      "cell_type": "code",
      "source": [
        "x = 5\n",
        "result = \"postive\" if x > 0 else \"Negative\"\n",
        "print(result)"
      ],
      "metadata": {
        "colab": {
          "base_uri": "https://localhost:8080/"
        },
        "id": "j3rXJq401Kb5",
        "outputId": "f70a39e3-e4fe-4c63-80b3-a34774cbcfea"
      },
      "execution_count": null,
      "outputs": [
        {
          "output_type": "stream",
          "name": "stdout",
          "text": [
            "postive\n"
          ]
        }
      ]
    },
    {
      "cell_type": "markdown",
      "source": [
        "###Nested if statments"
      ],
      "metadata": {
        "id": "_0_UP7JU1m5K"
      }
    },
    {
      "cell_type": "code",
      "source": [
        "n = 35\n",
        "if n > 50:\n",
        "  print(\"Greater than 50\")\n",
        "elif n >= 20:\n",
        "  print(\"Value between 20 and 50\")\n",
        "else:\n",
        "  print(\"Less than 20\")"
      ],
      "metadata": {
        "colab": {
          "base_uri": "https://localhost:8080/"
        },
        "id": "6Djpptgx1oqa",
        "outputId": "854a2c69-63cf-4d31-e9f2-ff760fd61e9f"
      },
      "execution_count": null,
      "outputs": [
        {
          "output_type": "stream",
          "name": "stdout",
          "text": [
            "Value between 20 and 50\n"
          ]
        }
      ]
    },
    {
      "cell_type": "markdown",
      "source": [
        "###Multiple factor"
      ],
      "metadata": {
        "id": "ym-kQUBU2mB1"
      }
    },
    {
      "cell_type": "code",
      "source": [
        "h = 75\n",
        "if h % 2 == 0 and h % 3 == 0:\n",
        "    print(\"Given number is divisible by 2 and 3\")\n",
        "elif h % 2 == 0:\n",
        "  print(\"Given number is divisible by 2\")\n",
        "elif h % 3 == 0:\n",
        "  print(\"Given number is divisible by 3\")\n",
        "else:\n",
        "  print(\"Give a proper number\")"
      ],
      "metadata": {
        "colab": {
          "base_uri": "https://localhost:8080/"
        },
        "id": "gwch_bb52oHE",
        "outputId": "ed920208-bc19-49f2-ae3e-87cedbbb0f6e"
      },
      "execution_count": null,
      "outputs": [
        {
          "output_type": "stream",
          "name": "stdout",
          "text": [
            "Given number is divisible by 3\n"
          ]
        }
      ]
    },
    {
      "cell_type": "markdown",
      "source": [
        "###Logical operators and conditions"
      ],
      "metadata": {
        "id": "WrCah-m1ybsx"
      }
    },
    {
      "cell_type": "code",
      "source": [
        "x = 10\n",
        "if 5 < x < 20 and x % 2 == 0:\n",
        "  print(\"Yes is it\")\n",
        "else:\n",
        "  print(\"No\")"
      ],
      "metadata": {
        "colab": {
          "base_uri": "https://localhost:8080/"
        },
        "id": "X8yjHlpLyhGc",
        "outputId": "7fbc9c46-9b09-4e00-b224-ac83edbafc1b"
      },
      "execution_count": null,
      "outputs": [
        {
          "output_type": "stream",
          "name": "stdout",
          "text": [
            "Yes is it\n"
          ]
        }
      ]
    },
    {
      "cell_type": "markdown",
      "source": [],
      "metadata": {
        "id": "3FUM2sInzCaY"
      }
    },
    {
      "cell_type": "markdown",
      "source": [
        "###String startswith and endswith"
      ],
      "metadata": {
        "id": "xyGw4TT7zRzk"
      }
    },
    {
      "cell_type": "code",
      "source": [
        "txt = \"Hello\"\n",
        "if txt.startswith(\"H\") and txt.endswith(\"o\"):\n",
        "  print(\"Given String is Correct\")\n",
        "else:\n",
        "  print(\"Nope\")"
      ],
      "metadata": {
        "colab": {
          "base_uri": "https://localhost:8080/"
        },
        "id": "bStpB87xzUUw",
        "outputId": "bc49e4ed-ec1e-4035-cb80-2ab736e5f1d2"
      },
      "execution_count": null,
      "outputs": [
        {
          "output_type": "stream",
          "name": "stdout",
          "text": [
            "Given String is Correct\n"
          ]
        }
      ]
    },
    {
      "cell_type": "markdown",
      "source": [
        "###Check all elements positive"
      ],
      "metadata": {
        "id": "a6BohwDvz12s"
      }
    },
    {
      "cell_type": "code",
      "source": [
        "list = [1, 2, 3, 4, 5, 6, 7, 8, 9, 10]\n",
        "if all(i > 0 for i in list):\n",
        "  print(\"All elements are Positive\")\n",
        "else:\n",
        "  print(\"None\")"
      ],
      "metadata": {
        "colab": {
          "base_uri": "https://localhost:8080/"
        },
        "id": "tLClZS8qz39K",
        "outputId": "80c1915b-b3e0-4c9e-92fb-b187313245c4"
      },
      "execution_count": null,
      "outputs": [
        {
          "output_type": "stream",
          "name": "stdout",
          "text": [
            "All elements are Positive\n"
          ]
        }
      ]
    },
    {
      "cell_type": "markdown",
      "source": [
        "###Check palindrome or not"
      ],
      "metadata": {
        "id": "oxhuLg170TbP"
      }
    },
    {
      "cell_type": "code",
      "source": [
        "user = input(\"ENter your word : \")\n",
        "if user == user[::-1]:\n",
        "  user = user.upper()\n",
        "  print(f\"Given word {user} is a palindrome\")\n",
        "else:\n",
        "  user = user.upper()\n",
        "  print(f\"given word {user} is not a palindrome\")"
      ],
      "metadata": {
        "colab": {
          "base_uri": "https://localhost:8080/"
        },
        "id": "ihop2FUX0VwI",
        "outputId": "18cdef67-c477-4bbc-e56d-4324b1beb825"
      },
      "execution_count": null,
      "outputs": [
        {
          "output_type": "stream",
          "name": "stdout",
          "text": [
            "ENter your word : dad\n",
            "Given word DAD is a palindrome\n"
          ]
        }
      ]
    },
    {
      "cell_type": "markdown",
      "source": [
        "###Nested if"
      ],
      "metadata": {
        "id": "enLGtsxV1Dcm"
      }
    },
    {
      "cell_type": "code",
      "source": [
        "age = int(input(\"Enter your age : \"))\n",
        "if age < 13:\n",
        "  print(\"You are a child\")\n",
        "elif 13 <= age < 20:\n",
        "  print(\"You are a Teenager\")\n",
        "elif age > 20:\n",
        "  print(\"You are Adult\")\n",
        "else:\n",
        "  print(\"Invalid input\")"
      ],
      "metadata": {
        "colab": {
          "base_uri": "https://localhost:8080/"
        },
        "id": "L2SupUST1RBW",
        "outputId": "a86e5f1b-55e7-4c07-ff9f-ef5753278b10"
      },
      "execution_count": null,
      "outputs": [
        {
          "output_type": "stream",
          "name": "stdout",
          "text": [
            "Enter your age : 16\n",
            "You are a Teenager\n"
          ]
        }
      ]
    },
    {
      "cell_type": "markdown",
      "source": [
        "###Membership operator in condition"
      ],
      "metadata": {
        "id": "1xTYJtLY2Cnu"
      }
    },
    {
      "cell_type": "code",
      "source": [
        "li = [11, 12, 13, 14, 15, 16, 17, 18, 19, 20]\n",
        "choice = int(input(\"Enter the Value : \"))\n",
        "if choice in li:\n",
        "  print(f\"Given value {choice} is in the list\")\n",
        "else:\n",
        "  print(\"Not in list\")"
      ],
      "metadata": {
        "colab": {
          "base_uri": "https://localhost:8080/"
        },
        "id": "k4Z060eJ2NRm",
        "outputId": "e6f52775-e04e-4d9e-b5e3-695c5e532c51"
      },
      "execution_count": null,
      "outputs": [
        {
          "output_type": "stream",
          "name": "stdout",
          "text": [
            "Enter the Value : 15\n",
            "Given value 15 is in the list\n"
          ]
        }
      ]
    }
  ]
}